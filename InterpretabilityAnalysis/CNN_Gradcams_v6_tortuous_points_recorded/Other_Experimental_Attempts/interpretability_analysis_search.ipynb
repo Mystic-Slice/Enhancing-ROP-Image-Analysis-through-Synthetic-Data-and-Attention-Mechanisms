{
 "cells": [
  {
   "cell_type": "code",
   "execution_count": 1,
   "metadata": {},
   "outputs": [],
   "source": [
    "import numpy as np \n",
    "import pandas as pd \n",
    "import tensorflow as tf\n",
    "tf.config.run_functions_eagerly(True)\n",
    "from matplotlib import pyplot as plt\n",
    "from PIL import Image\n",
    "import cv2\n",
    "import datetime\n",
    "import time\n",
    "from sklearn.model_selection import train_test_split\n",
    "import os\n",
    "import tqdm\n",
    "from skan.draw import overlay_euclidean_skeleton_2d"
   ]
  },
  {
   "cell_type": "code",
   "execution_count": 2,
   "metadata": {},
   "outputs": [
    {
     "data": {
      "text/plain": [
       "(<Axes: >, <Axes: >)"
      ]
     },
     "execution_count": 2,
     "metadata": {},
     "output_type": "execute_result"
    },
    {
     "data": {
      "image/png": "[encoded data removed]",
      "text/plain": [
       "<Figure size 640x480 with 1 Axes>"
      ]
     },
     "metadata": {},
     "output_type": "display_data"
    }
   ],
   "source": [
    "df = pd.read_csv(\"images/data.csv\", sep=\"\\t\")\n",
    "df.tortuous = df.tortuous.astype(str)\n",
    "train_df, test_df = train_test_split(df, test_size=0.2, stratify=df.tortuous)\n",
    "train_df.tortuous.hist(), test_df.tortuous.hist()"
   ]
  },
  {
   "cell_type": "code",
   "execution_count": 3,
   "metadata": {},
   "outputs": [],
   "source": [
    "BATCH_SIZE = 4\n",
    "IMG_SIZE = 244\n",
    "NUM_CLASSES = train_df[\"tortuous\"].nunique()"
   ]
  },
  {
   "cell_type": "markdown",
   "metadata": {},
   "source": [
    "# Gradcam"
   ]
  },
  {
   "cell_type": "code",
   "execution_count": 4,
   "metadata": {},
   "outputs": [],
   "source": [
    "@tf.function\n",
    "def normalize(heatmap):\n",
    "    num = heatmap - tf.reduce_min(heatmap)\n",
    "    deno = (tf.reduce_max(heatmap) - tf.reduce_min(heatmap))\n",
    "    if deno == 0:\n",
    "        return heatmap\n",
    "    heatmap = num / deno\n",
    "    return heatmap"
   ]
  },
  {
   "cell_type": "code",
   "execution_count": 5,
   "metadata": {},
   "outputs": [],
   "source": [
    "@tf.function\n",
    "def compute_gradcam_map(model, image, eps=1e-8):    \n",
    "    gradModel = tf.keras.models.Model(\n",
    "        inputs=[model.inputs],\n",
    "        outputs=[model.get_layer(get_last_layer_name(model)).output, model.output]\n",
    "    )\n",
    "    gradModel.layers[-1].activation = tf.keras.activations.linear\n",
    "\n",
    "    with tf.GradientTape(persistent = True) as tape:\n",
    "        input_image = tf.cast(image, tf.float32)\n",
    "        convOutputs, predictions = gradModel(input_image, training=False)\n",
    "        classid = tf.argmax(predictions[0])\n",
    "        loss = predictions[:, classid]\n",
    "\n",
    "    grads = tape.gradient(loss, convOutputs)\n",
    "\n",
    "    pooled_grads = tf.reduce_mean(grads, axis = (0, 1, 2))\n",
    "\n",
    "    convOutputs = convOutputs[0]\n",
    "    heatmap = convOutputs @ pooled_grads[..., tf.newaxis]\n",
    "    heatmap = tf.squeeze(heatmap)\n",
    "\n",
    "    heatmap = tf.image.resize(heatmap[tf.newaxis, ..., tf.newaxis], [IMG_SIZE, IMG_SIZE])\n",
    "    heatmap = tf.squeeze(heatmap)\n",
    "\n",
    "    heatmap = normalize(heatmap)\n",
    "    return heatmap"
   ]
  },
  {
   "cell_type": "code",
   "execution_count": 6,
   "metadata": {},
   "outputs": [],
   "source": [
    "@tf.function\n",
    "def get_last_layer_name(model):\n",
    "    for layer in reversed(model.layers):\n",
    "        if isinstance(layer, tf.keras.layers.Conv2D):\n",
    "            return layer.name\n",
    "    return []"
   ]
  },
  {
   "cell_type": "code",
   "execution_count": 7,
   "metadata": {},
   "outputs": [],
   "source": [
    "@tf.function\n",
    "def generate_gradcam_batch(imgs, global_model, threshold):\n",
    "\n",
    "    fused_heatmaps = []\n",
    "    for image in imgs:\n",
    "        heatmap = compute_gradcam_map(global_model, tf.expand_dims(image, axis=0))\n",
    "        fused_heatmaps.append(heatmap)\n",
    "\n",
    "    # Generate mask from combination\n",
    "    fused_heatmaps = tf.convert_to_tensor(fused_heatmaps, tf.float32)\n",
    "    binary_masks = tf.where(fused_heatmaps > threshold, 1, 0)\n",
    "\n",
    "    # Pool the pixels to look at the neighbourhood of the bright pixel instead of just the bright pixel alone\n",
    "    pooled_bin_mask = tf.nn.max_pool2d(binary_masks[:, :, :, tf.newaxis], ksize=(30, 30), strides=(1, 1), padding=\"SAME\")[:, :, :, 0]\n",
    "\n",
    "    pool_binary_masks = tf.stack([pooled_bin_mask] * 3, axis = -1)\n",
    "    pool_binary_masks = tf.cast(pool_binary_masks, tf.float32)    \n",
    "    return tf.multiply(pool_binary_masks, imgs)"
   ]
  },
  {
   "cell_type": "code",
   "execution_count": 8,
   "metadata": {},
   "outputs": [],
   "source": [
    "@tf.function\n",
    "def generate_gradcam_batch_withheat(imgs, global_model, threshold):\n",
    "\n",
    "    fused_heatmaps = []\n",
    "    for image in imgs:\n",
    "        heatmap = compute_gradcam_map(global_model, tf.expand_dims(image, axis=0))\n",
    "        fused_heatmaps.append(heatmap)\n",
    "\n",
    "    # Generate mask from combination\n",
    "    fused_heatmaps = tf.convert_to_tensor(fused_heatmaps, tf.float32)\n",
    "    binary_masks = tf.where(fused_heatmaps > threshold, 1, 0)\n",
    "    \n",
    "    # Pool the pixels to look at the neighbourhood of the bright pixel instead of just the bright pixel alone\n",
    "    pooled_bin_mask = tf.nn.max_pool2d(binary_masks[:, :, :, tf.newaxis], ksize=(30, 30), strides=(1, 1), padding=\"SAME\")[:, :, :, 0]\n",
    "\n",
    "    pool_binary_masks = tf.stack([pooled_bin_mask] * 3, axis = -1)\n",
    "    pool_binary_masks = tf.cast(pool_binary_masks, tf.float32)\n",
    "    return fused_heatmaps, pool_binary_masks, tf.multiply(pool_binary_masks, imgs)"
   ]
  },
  {
   "cell_type": "code",
   "execution_count": 9,
   "metadata": {},
   "outputs": [],
   "source": [
    "def overlay_heatmap(heatmap, image, alpha=0.5,colormap=cv2.COLORMAP_JET):\n",
    "    heatmap = cv2.cvtColor(cv2.applyColorMap((heatmap * 255.).astype(\"uint8\"), colormap), cv2.COLOR_BGR2RGB)\n",
    "    output = cv2.addWeighted((image * 255.).astype(\"uint8\"), alpha, heatmap, 1 - alpha, 0)\n",
    "    return output"
   ]
  },
  {
   "cell_type": "markdown",
   "metadata": {},
   "source": [
    "# Train Global branch - CustomModel"
   ]
  },
  {
   "cell_type": "code",
   "execution_count": 10,
   "metadata": {},
   "outputs": [],
   "source": [
    "def build_custom_model():\n",
    "    model = tf.keras.Sequential(\n",
    "        [\n",
    "            tf.keras.Input(shape=(IMG_SIZE, IMG_SIZE, 3)),\n",
    "            tf.keras.layers.Conv2D(16, kernel_size=(3, 3), activation=\"leaky_relu\", padding=\"same\"),\n",
    "            tf.keras.layers.MaxPooling2D(pool_size=(2, 2)),\n",
    "            tf.keras.layers.Conv2D(32, kernel_size=(3, 3), activation=\"leaky_relu\", padding=\"same\"),\n",
    "            tf.keras.layers.MaxPooling2D(pool_size=(2, 2)),\n",
    "            tf.keras.layers.Conv2D(64, kernel_size=(3, 3), activation=\"leaky_relu\", padding=\"same\"),\n",
    "            tf.keras.layers.MaxPooling2D(pool_size=(2, 2)),\n",
    "            tf.keras.layers.Conv2D(128, kernel_size=(3, 3), activation=\"leaky_relu\", padding=\"same\"),\n",
    "            tf.keras.layers.MaxPooling2D(pool_size=(2, 2)),\n",
    "            tf.keras.layers.Flatten(),\n",
    "            tf.keras.layers.Dropout(0.5),\n",
    "            tf.keras.layers.Dense(NUM_CLASSES, activation=\"softmax\"),\n",
    "        ]\n",
    "    )\n",
    "\n",
    "    optimizer = tf.keras.optimizers.Adam(learning_rate=1e-3)\n",
    "    model.compile(optimizer=optimizer,loss='categorical_crossentropy', metrics = ['accuracy'])\n",
    "    return model"
   ]
  },
  {
   "cell_type": "code",
   "execution_count": 11,
   "metadata": {},
   "outputs": [],
   "source": [
    "global_model = build_custom_model()"
   ]
  },
  {
   "cell_type": "code",
   "execution_count": 12,
   "metadata": {},
   "outputs": [],
   "source": [
    "global_model.load_weights(\"models_tf/43_0.364_0.950.h5\")"
   ]
  },
  {
   "cell_type": "markdown",
   "metadata": {},
   "source": [
    "# Interpretability Analysis"
   ]
  },
  {
   "cell_type": "markdown",
   "metadata": {},
   "source": [
    "- need to determine if the regions with high attention have higher tortuousity\n",
    "    - so, generate gradcam\n",
    "    - generate masks\n",
    "    - get skeleton of masks and get the branch data\n",
    "    - calculate tortuousity for n images"
   ]
  },
  {
   "cell_type": "code",
   "execution_count": 13,
   "metadata": {},
   "outputs": [],
   "source": [
    "from skimage import morphology\n",
    "from skimage.morphology import square\n",
    "from skan import Skeleton, summarize"
   ]
  },
  {
   "cell_type": "code",
   "execution_count": 14,
   "metadata": {},
   "outputs": [],
   "source": [
    "def open_image(filename):\n",
    "    img = Image.open(filename)\n",
    "    img = img.convert(mode=\"RGB\")\n",
    "    img = img.resize((IMG_SIZE, IMG_SIZE), resample=Image.NEAREST)\n",
    "    img = np.asarray(img)\n",
    "    img = img/255.0\n",
    "    img = img.astype(np.float32)\n",
    "    return img"
   ]
  },
  {
   "cell_type": "code",
   "execution_count": 15,
   "metadata": {},
   "outputs": [],
   "source": [
    "def get_random_sample(n = 5):\n",
    "    samples = test_df[test_df.tortuous == \"1\"].sample(n)\n",
    "    images = np.array([open_image(filename) for filename in samples.filename])\n",
    "    pred_labels = tf.argmax(global_model(tf.convert_to_tensor(images)), axis=1).numpy().tolist()\n",
    "    return images, samples.tortuous, pred_labels"
   ]
  },
  {
   "cell_type": "code",
   "execution_count": 16,
   "metadata": {},
   "outputs": [],
   "source": [
    "def split_heatmap(heatmap, min_threshold, max_threshold):\n",
    "    return (np.where(heatmap <= min_threshold, 1, 0),\n",
    "            np.where(heatmap >= max_threshold, 1, 0))"
   ]
  },
  {
   "cell_type": "code",
   "execution_count": 17,
   "metadata": {},
   "outputs": [],
   "source": [
    "def get_cropped_images(images, min_thres, max_thres):\n",
    "    heatmaps, _, _ = generate_gradcam_batch_withheat(images, global_model, 0.5)\n",
    "    regions_batch = [split_heatmap(heatmap.numpy(), min_thres, max_thres) for heatmap in heatmaps]\n",
    "\n",
    "    cropped_regions_batch = [\n",
    "        [img*np.stack([region] * 3, axis=-1) for region in regions] \n",
    "        for img, regions in zip(images, regions_batch)\n",
    "    ]\n",
    "\n",
    "    return cropped_regions_batch"
   ]
  },
  {
   "cell_type": "code",
   "execution_count": 18,
   "metadata": {},
   "outputs": [],
   "source": [
    "def filter_branch_lengthwise(branch_data, min_length = 10):\n",
    "    return branch_data[branch_data['branch-distance'] >= min_length]"
   ]
  },
  {
   "cell_type": "code",
   "execution_count": 19,
   "metadata": {},
   "outputs": [],
   "source": [
    "def get_tortuousity_measure_branch_wise(branch_data):\n",
    "    return branch_data[branch_data['euclidean-distance'] > 0] \\\n",
    "            .apply(lambda x: x['branch-distance']/x['euclidean-distance'], axis=1)"
   ]
  },
  {
   "cell_type": "code",
   "execution_count": 20,
   "metadata": {},
   "outputs": [],
   "source": [
    "def interpretability_analysis():\n",
    "    images, labels, pred_labels = get_random_sample(N)\n",
    "    cropped_regions_batch = get_cropped_images(images, MIN_THRESHOLD, MAX_THRESHOLD)\n",
    "\n",
    "    skeletons_batch = []\n",
    "    for cropped_regions in cropped_regions_batch:\n",
    "        skeletons = []\n",
    "        discard = False\n",
    "        for crop in cropped_regions:\n",
    "            # Sometimes there are problems with skeleton analysis\n",
    "            # indptr problems -> not solvable\n",
    "            try:\n",
    "                crop = crop[:, :, 0]\n",
    "                closed_crop = morphology.closing(crop, footprint=square(3))\n",
    "                skeletonized_crop = morphology.skeletonize(closed_crop)\n",
    "                skeleton = Skeleton(skeletonized_crop)\n",
    "                skeletons.append(skeleton)\n",
    "            except Exception as e:\n",
    "                print(e)\n",
    "                print(\"Error in skeleton analysis. Discarding image.\")\n",
    "                discard = True\n",
    "        if not discard:\n",
    "            skeletons_batch.append(skeletons)\n",
    "\n",
    "    branch_data_batch = [\n",
    "        [summarize(skeleton) for skeleton in skeletons]\n",
    "        for skeletons in skeletons_batch\n",
    "    ]\n",
    "    \n",
    "    branch_data_batch_filtered = [\n",
    "        [filter_branch_lengthwise(branch_data, min_length=MIN_LENGTH) for branch_data in branch_data_img]\n",
    "        for branch_data_img in branch_data_batch\n",
    "    ]\n",
    "\n",
    "    tortuousity_data_batch = [\n",
    "        [get_tortuousity_measure_branch_wise(branch_data) for branch_data in branch_data_img]\n",
    "        for branch_data_img in branch_data_batch_filtered\n",
    "    ]\n",
    "\n",
    "    return tortuousity_data_batch\n",
    "    "
   ]
  },
  {
   "cell_type": "code",
   "execution_count": 21,
   "metadata": {},
   "outputs": [],
   "source": [
    "# plt.imshow(np.hstack([np.vstack([img] + cropped_regions) for img, cropped_regions in zip(images, cropped_regions_batch)]))"
   ]
  },
  {
   "cell_type": "code",
   "execution_count": 22,
   "metadata": {},
   "outputs": [],
   "source": [
    "MIN_THRESHOLD = 0.15\n",
    "MAX_THRESHOLD = 0.5\n",
    "N = 50\n",
    "MIN_LENGTH = 10"
   ]
  },
  {
   "cell_type": "code",
   "execution_count": 23,
   "metadata": {},
   "outputs": [],
   "source": [
    "tortuousity_data_batch = interpretability_analysis()"
   ]
  },
  {
   "cell_type": "code",
   "execution_count": 24,
   "metadata": {},
   "outputs": [],
   "source": [
    "def apply_metric(tortuousity_data_batch, q_func = np.mean):\n",
    "    cnt = 0\n",
    "    for tortuousity_data_img in tortuousity_data_batch:\n",
    "        min_mean = q_func(tortuousity_data_img[0])\n",
    "        max_mean = q_func(tortuousity_data_img[1])\n",
    "\n",
    "        if np.isnan(min_mean) or min_mean < max_mean:\n",
    "            cnt += 1\n",
    "    return cnt / len(tortuousity_data_batch)"
   ]
  },
  {
   "cell_type": "markdown",
   "metadata": {},
   "source": [
    "### Mean"
   ]
  },
  {
   "cell_type": "code",
   "execution_count": 25,
   "metadata": {},
   "outputs": [],
   "source": [
    "def mean(tortuosity_data_img):\n",
    "    return tortuosity_data_img.mean()"
   ]
  },
  {
   "cell_type": "markdown",
   "metadata": {},
   "source": [
    "### Top k"
   ]
  },
  {
   "cell_type": "code",
   "execution_count": 26,
   "metadata": {},
   "outputs": [],
   "source": [
    "def topkmean(tortuosity_data_img):\n",
    "    k = 5\n",
    "    return tortuosity_data_img.nlargest(k).mean()"
   ]
  },
  {
   "cell_type": "markdown",
   "metadata": {},
   "source": [
    "### Quantile = 0.75"
   ]
  },
  {
   "cell_type": "code",
   "execution_count": 27,
   "metadata": {},
   "outputs": [],
   "source": [
    "def quantile_75(tortuosity_data_img):\n",
    "    return tortuosity_data_img.quantile(0.75)"
   ]
  },
  {
   "cell_type": "markdown",
   "metadata": {},
   "source": [
    "### Quantile = 0.5"
   ]
  },
  {
   "cell_type": "code",
   "execution_count": 28,
   "metadata": {},
   "outputs": [],
   "source": [
    "def quantile_50(tortuosity_data_img):\n",
    "    return tortuosity_data_img.quantile(0.5)"
   ]
  },
  {
   "cell_type": "markdown",
   "metadata": {},
   "source": [
    "### Quantile = 0.9"
   ]
  },
  {
   "cell_type": "code",
   "execution_count": 29,
   "metadata": {},
   "outputs": [],
   "source": [
    "def quantile_90(tortuosity_data_img):\n",
    "    return tortuosity_data_img.quantile(0.9)"
   ]
  },
  {
   "cell_type": "code",
   "execution_count": null,
   "metadata": {},
   "outputs": [],
   "source": []
  },
  {
   "cell_type": "code",
   "execution_count": 30,
   "metadata": {},
   "outputs": [],
   "source": [
    "metrics = [mean, topkmean, quantile_50, quantile_75, quantile_90]"
   ]
  },
  {
   "cell_type": "code",
   "execution_count": 31,
   "metadata": {},
   "outputs": [],
   "source": [
    "metrics_df = pd.DataFrame(columns=['min_thres', 'max_thres'] + [metric.__name__ for metric in metrics])"
   ]
  },
  {
   "cell_type": "code",
   "execution_count": 32,
   "metadata": {},
   "outputs": [
    {
     "name": "stdout",
     "output_type": "stream",
     "text": [
      "0.1 0.5\n"
     ]
    },
    {
     "name": "stderr",
     "output_type": "stream",
     "text": [
      "C:\\Users\\vaash\\AppData\\Local\\Temp\\ipykernel_15748\\3418443119.py:15: FutureWarning: The behavior of DataFrame concatenation with empty or all-NA entries is deprecated. In a future version, this will no longer exclude empty or all-NA columns when determining the result dtypes. To retain the old behavior, exclude the relevant entries before the concat operation.\n",
      "  metrics_df = pd.concat([metrics_df, curr_df], ignore_index=True)\n"
     ]
    },
    {
     "name": "stdout",
     "output_type": "stream",
     "text": [
      "0.1 0.6\n",
      "0.1 0.7\n",
      "0.1 0.8\n",
      "0.1 0.9\n",
      "0.15 0.5\n",
      "0.15 0.6\n",
      "0.15 0.7\n",
      "0.15 0.8\n",
      "0.15 0.9\n",
      "0.2 0.5\n",
      "0.2 0.6\n",
      "0.2 0.7\n",
      "0.2 0.8\n",
      "0.2 0.9\n",
      "0.25 0.5\n",
      "0.25 0.6\n",
      "0.25 0.7\n",
      "0.25 0.8\n",
      "0.25 0.9\n",
      "0.3 0.5\n",
      "0.3 0.6\n",
      "0.3 0.7\n",
      "0.3 0.8\n",
      "0.3 0.9\n"
     ]
    }
   ],
   "source": [
    "min_thresholds = [0.1, 0.15, 0.2, 0.25, 0.3]\n",
    "max_thresholds = [0.5, 0.6, 0.7, 0.8, 0.9]\n",
    "\n",
    "for min_thres in min_thresholds:\n",
    "    for max_thres in max_thresholds:\n",
    "        print(min_thres, max_thres)\n",
    "        tortuousity_data_batch = interpretability_analysis()\n",
    "        curr_df = pd.DataFrame.from_dict(\n",
    "            {\n",
    "                'min_thres': [min_thres],\n",
    "                'max_thres': [max_thres],\n",
    "                **{metric.__name__: [apply_metric(tortuousity_data_batch, q_func=metric)] for metric in metrics}\n",
    "            }\n",
    "        )\n",
    "        metrics_df = pd.concat([metrics_df, curr_df], ignore_index=True)"
   ]
  },
  {
   "cell_type": "code",
   "execution_count": 33,
   "metadata": {},
   "outputs": [
    {
     "data": {
      "text/html": [
       "<div>\n",
       "<style scoped>\n",
       "    .dataframe tbody tr th:only-of-type {\n",
       "        vertical-align: middle;\n",
       "    }\n",
       "\n",
       "    .dataframe tbody tr th {\n",
       "        vertical-align: top;\n",
       "    }\n",
       "\n",
       "    .dataframe thead th {\n",
       "        text-align: right;\n",
       "    }\n",
       "</style>\n",
       "<table border=\"1\" class=\"dataframe\">\n",
       "  <thead>\n",
       "    <tr style=\"text-align: right;\">\n",
       "      <th></th>\n",
       "      <th>min_thres</th>\n",
       "      <th>max_thres</th>\n",
       "      <th>mean</th>\n",
       "      <th>topkmean</th>\n",
       "      <th>quantile_50</th>\n",
       "      <th>quantile_75</th>\n",
       "      <th>quantile_90</th>\n",
       "    </tr>\n",
       "  </thead>\n",
       "  <tbody>\n",
       "    <tr>\n",
       "      <th>0</th>\n",
       "      <td>0.10</td>\n",
       "      <td>0.5</td>\n",
       "      <td>0.98</td>\n",
       "      <td>0.60</td>\n",
       "      <td>0.98</td>\n",
       "      <td>0.98</td>\n",
       "      <td>0.96</td>\n",
       "    </tr>\n",
       "    <tr>\n",
       "      <th>1</th>\n",
       "      <td>0.10</td>\n",
       "      <td>0.6</td>\n",
       "      <td>0.96</td>\n",
       "      <td>0.44</td>\n",
       "      <td>0.96</td>\n",
       "      <td>0.96</td>\n",
       "      <td>0.98</td>\n",
       "    </tr>\n",
       "    <tr>\n",
       "      <th>2</th>\n",
       "      <td>0.10</td>\n",
       "      <td>0.7</td>\n",
       "      <td>0.90</td>\n",
       "      <td>0.46</td>\n",
       "      <td>0.98</td>\n",
       "      <td>0.96</td>\n",
       "      <td>0.90</td>\n",
       "    </tr>\n",
       "    <tr>\n",
       "      <th>3</th>\n",
       "      <td>0.10</td>\n",
       "      <td>0.8</td>\n",
       "      <td>0.94</td>\n",
       "      <td>0.56</td>\n",
       "      <td>0.96</td>\n",
       "      <td>0.94</td>\n",
       "      <td>0.90</td>\n",
       "    </tr>\n",
       "    <tr>\n",
       "      <th>4</th>\n",
       "      <td>0.10</td>\n",
       "      <td>0.9</td>\n",
       "      <td>0.86</td>\n",
       "      <td>0.36</td>\n",
       "      <td>0.92</td>\n",
       "      <td>0.90</td>\n",
       "      <td>0.86</td>\n",
       "    </tr>\n",
       "    <tr>\n",
       "      <th>5</th>\n",
       "      <td>0.15</td>\n",
       "      <td>0.5</td>\n",
       "      <td>0.96</td>\n",
       "      <td>0.46</td>\n",
       "      <td>0.96</td>\n",
       "      <td>0.98</td>\n",
       "      <td>0.90</td>\n",
       "    </tr>\n",
       "    <tr>\n",
       "      <th>6</th>\n",
       "      <td>0.15</td>\n",
       "      <td>0.6</td>\n",
       "      <td>0.96</td>\n",
       "      <td>0.48</td>\n",
       "      <td>0.94</td>\n",
       "      <td>0.98</td>\n",
       "      <td>0.96</td>\n",
       "    </tr>\n",
       "    <tr>\n",
       "      <th>7</th>\n",
       "      <td>0.15</td>\n",
       "      <td>0.7</td>\n",
       "      <td>0.94</td>\n",
       "      <td>0.58</td>\n",
       "      <td>0.92</td>\n",
       "      <td>0.96</td>\n",
       "      <td>0.94</td>\n",
       "    </tr>\n",
       "    <tr>\n",
       "      <th>8</th>\n",
       "      <td>0.15</td>\n",
       "      <td>0.8</td>\n",
       "      <td>0.92</td>\n",
       "      <td>0.52</td>\n",
       "      <td>1.00</td>\n",
       "      <td>0.98</td>\n",
       "      <td>0.88</td>\n",
       "    </tr>\n",
       "    <tr>\n",
       "      <th>9</th>\n",
       "      <td>0.15</td>\n",
       "      <td>0.9</td>\n",
       "      <td>0.94</td>\n",
       "      <td>0.62</td>\n",
       "      <td>0.94</td>\n",
       "      <td>0.94</td>\n",
       "      <td>0.92</td>\n",
       "    </tr>\n",
       "    <tr>\n",
       "      <th>10</th>\n",
       "      <td>0.20</td>\n",
       "      <td>0.5</td>\n",
       "      <td>0.96</td>\n",
       "      <td>0.62</td>\n",
       "      <td>0.96</td>\n",
       "      <td>0.96</td>\n",
       "      <td>0.92</td>\n",
       "    </tr>\n",
       "    <tr>\n",
       "      <th>11</th>\n",
       "      <td>0.20</td>\n",
       "      <td>0.6</td>\n",
       "      <td>0.94</td>\n",
       "      <td>0.38</td>\n",
       "      <td>0.92</td>\n",
       "      <td>0.96</td>\n",
       "      <td>0.90</td>\n",
       "    </tr>\n",
       "    <tr>\n",
       "      <th>12</th>\n",
       "      <td>0.20</td>\n",
       "      <td>0.7</td>\n",
       "      <td>0.98</td>\n",
       "      <td>0.44</td>\n",
       "      <td>0.96</td>\n",
       "      <td>0.98</td>\n",
       "      <td>0.98</td>\n",
       "    </tr>\n",
       "    <tr>\n",
       "      <th>13</th>\n",
       "      <td>0.20</td>\n",
       "      <td>0.8</td>\n",
       "      <td>0.90</td>\n",
       "      <td>0.44</td>\n",
       "      <td>0.92</td>\n",
       "      <td>0.92</td>\n",
       "      <td>0.84</td>\n",
       "    </tr>\n",
       "    <tr>\n",
       "      <th>14</th>\n",
       "      <td>0.20</td>\n",
       "      <td>0.9</td>\n",
       "      <td>0.94</td>\n",
       "      <td>0.50</td>\n",
       "      <td>0.92</td>\n",
       "      <td>0.96</td>\n",
       "      <td>0.86</td>\n",
       "    </tr>\n",
       "    <tr>\n",
       "      <th>15</th>\n",
       "      <td>0.25</td>\n",
       "      <td>0.5</td>\n",
       "      <td>0.94</td>\n",
       "      <td>0.50</td>\n",
       "      <td>1.00</td>\n",
       "      <td>0.98</td>\n",
       "      <td>0.88</td>\n",
       "    </tr>\n",
       "    <tr>\n",
       "      <th>16</th>\n",
       "      <td>0.25</td>\n",
       "      <td>0.6</td>\n",
       "      <td>0.96</td>\n",
       "      <td>0.44</td>\n",
       "      <td>0.94</td>\n",
       "      <td>0.96</td>\n",
       "      <td>0.86</td>\n",
       "    </tr>\n",
       "    <tr>\n",
       "      <th>17</th>\n",
       "      <td>0.25</td>\n",
       "      <td>0.7</td>\n",
       "      <td>0.96</td>\n",
       "      <td>0.56</td>\n",
       "      <td>0.96</td>\n",
       "      <td>0.98</td>\n",
       "      <td>0.94</td>\n",
       "    </tr>\n",
       "    <tr>\n",
       "      <th>18</th>\n",
       "      <td>0.25</td>\n",
       "      <td>0.8</td>\n",
       "      <td>0.94</td>\n",
       "      <td>0.42</td>\n",
       "      <td>0.96</td>\n",
       "      <td>0.94</td>\n",
       "      <td>0.86</td>\n",
       "    </tr>\n",
       "    <tr>\n",
       "      <th>19</th>\n",
       "      <td>0.25</td>\n",
       "      <td>0.9</td>\n",
       "      <td>0.94</td>\n",
       "      <td>0.48</td>\n",
       "      <td>0.98</td>\n",
       "      <td>0.98</td>\n",
       "      <td>0.94</td>\n",
       "    </tr>\n",
       "    <tr>\n",
       "      <th>20</th>\n",
       "      <td>0.30</td>\n",
       "      <td>0.5</td>\n",
       "      <td>0.96</td>\n",
       "      <td>0.44</td>\n",
       "      <td>0.96</td>\n",
       "      <td>0.94</td>\n",
       "      <td>0.86</td>\n",
       "    </tr>\n",
       "    <tr>\n",
       "      <th>21</th>\n",
       "      <td>0.30</td>\n",
       "      <td>0.6</td>\n",
       "      <td>0.94</td>\n",
       "      <td>0.60</td>\n",
       "      <td>0.98</td>\n",
       "      <td>0.98</td>\n",
       "      <td>0.90</td>\n",
       "    </tr>\n",
       "    <tr>\n",
       "      <th>22</th>\n",
       "      <td>0.30</td>\n",
       "      <td>0.7</td>\n",
       "      <td>0.98</td>\n",
       "      <td>0.54</td>\n",
       "      <td>0.96</td>\n",
       "      <td>0.98</td>\n",
       "      <td>0.96</td>\n",
       "    </tr>\n",
       "    <tr>\n",
       "      <th>23</th>\n",
       "      <td>0.30</td>\n",
       "      <td>0.8</td>\n",
       "      <td>0.94</td>\n",
       "      <td>0.54</td>\n",
       "      <td>0.96</td>\n",
       "      <td>0.96</td>\n",
       "      <td>0.86</td>\n",
       "    </tr>\n",
       "    <tr>\n",
       "      <th>24</th>\n",
       "      <td>0.30</td>\n",
       "      <td>0.9</td>\n",
       "      <td>0.92</td>\n",
       "      <td>0.48</td>\n",
       "      <td>0.98</td>\n",
       "      <td>0.96</td>\n",
       "      <td>0.90</td>\n",
       "    </tr>\n",
       "  </tbody>\n",
       "</table>\n",
       "</div>"
      ],
      "text/plain": [
       "    min_thres  max_thres  mean  topkmean  quantile_50  quantile_75  \\\n",
       "0        0.10        0.5  0.98      0.60         0.98         0.98   \n",
       "1        0.10        0.6  0.96      0.44         0.96         0.96   \n",
       "2        0.10        0.7  0.90      0.46         0.98         0.96   \n",
       "3        0.10        0.8  0.94      0.56         0.96         0.94   \n",
       "4        0.10        0.9  0.86      0.36         0.92         0.90   \n",
       "5        0.15        0.5  0.96      0.46         0.96         0.98   \n",
       "6        0.15        0.6  0.96      0.48         0.94         0.98   \n",
       "7        0.15        0.7  0.94      0.58         0.92         0.96   \n",
       "8        0.15        0.8  0.92      0.52         1.00         0.98   \n",
       "9        0.15        0.9  0.94      0.62         0.94         0.94   \n",
       "10       0.20        0.5  0.96      0.62         0.96         0.96   \n",
       "11       0.20        0.6  0.94      0.38         0.92         0.96   \n",
       "12       0.20        0.7  0.98      0.44         0.96         0.98   \n",
       "13       0.20        0.8  0.90      0.44         0.92         0.92   \n",
       "14       0.20        0.9  0.94      0.50         0.92         0.96   \n",
       "15       0.25        0.5  0.94      0.50         1.00         0.98   \n",
       "16       0.25        0.6  0.96      0.44         0.94         0.96   \n",
       "17       0.25        0.7  0.96      0.56         0.96         0.98   \n",
       "18       0.25        0.8  0.94      0.42         0.96         0.94   \n",
       "19       0.25        0.9  0.94      0.48         0.98         0.98   \n",
       "20       0.30        0.5  0.96      0.44         0.96         0.94   \n",
       "21       0.30        0.6  0.94      0.60         0.98         0.98   \n",
       "22       0.30        0.7  0.98      0.54         0.96         0.98   \n",
       "23       0.30        0.8  0.94      0.54         0.96         0.96   \n",
       "24       0.30        0.9  0.92      0.48         0.98         0.96   \n",
       "\n",
       "    quantile_90  \n",
       "0          0.96  \n",
       "1          0.98  \n",
       "2          0.90  \n",
       "3          0.90  \n",
       "4          0.86  \n",
       "5          0.90  \n",
       "6          0.96  \n",
       "7          0.94  \n",
       "8          0.88  \n",
       "9          0.92  \n",
       "10         0.92  \n",
       "11         0.90  \n",
       "12         0.98  \n",
       "13         0.84  \n",
       "14         0.86  \n",
       "15         0.88  \n",
       "16         0.86  \n",
       "17         0.94  \n",
       "18         0.86  \n",
       "19         0.94  \n",
       "20         0.86  \n",
       "21         0.90  \n",
       "22         0.96  \n",
       "23         0.86  \n",
       "24         0.90  "
      ]
     },
     "execution_count": 33,
     "metadata": {},
     "output_type": "execute_result"
    }
   ],
   "source": [
    "metrics_df"
   ]
  },
  {
   "cell_type": "code",
   "execution_count": 34,
   "metadata": {},
   "outputs": [],
   "source": [
    "metrics_df.to_csv(\"interpretability_analysis_search.csv\", index=False)"
   ]
  },
  {
   "cell_type": "code",
   "execution_count": 35,
   "metadata": {},
   "outputs": [
    {
     "data": {
      "text/plain": [
       "<Axes: xlabel='max_thres', ylabel='min_thres'>"
      ]
     },
     "execution_count": 35,
     "metadata": {},
     "output_type": "execute_result"
    },
    {
     "data": {
      "image/png": "[encoded data removed]",
      "text/plain": [
       "<Figure size 640x480 with 2 Axes>"
      ]
     },
     "metadata": {},
     "output_type": "display_data"
    }
   ],
   "source": [
    "# Plot a heatmap of accuracies wrt min_threshold and max_threshold\n",
    "import seaborn as sns\n",
    "import matplotlib.pyplot as plt\n",
    "\n",
    "metrics_df = pd.read_csv(\"interpretability_analysis_search.csv\")\n",
    "metrics_df = metrics_df.pivot(index='min_thres', columns='max_thres', values='quantile_75')\n",
    "sns.heatmap(metrics_df, annot=True, fmt=\".2f\")"
   ]
  },
  {
   "cell_type": "code",
   "execution_count": null,
   "metadata": {},
   "outputs": [],
   "source": []
  }
 ],
 "metadata": {
  "kernelspec": {
   "display_name": "tf_gpu",
   "language": "python",
   "name": "python3"
  },
  "language_info": {
   "codemirror_mode": {
    "name": "ipython",
    "version": 3
   },
   "file_extension": ".py",
   "mimetype": "text/x-python",
   "name": "python",
   "nbconvert_exporter": "python",
   "pygments_lexer": "ipython3",
   "version": "3.9.18"
  }
 },
 "nbformat": 4,
 "nbformat_minor": 2
}
